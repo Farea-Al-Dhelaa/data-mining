{
 "cells": [
  {
   "cell_type": "markdown",
   "metadata": {},
   "source": [
    "<Center><b>Hamming distance V jaccard similarity</b></center>\n"
   ]
  },
  {
   "cell_type": "markdown",
   "metadata": {},
   "source": [
    "Hamming distance\n"
   ]
  },
  {
   "cell_type": "code",
   "execution_count": 1,
   "metadata": {},
   "outputs": [],
   "source": [
    "def hamming_distance(dataset1, dataset2):\n",
    "    if len(dataset1) != len(dataset2):\n",
    "        raise ValueError(\"Datasets must have the same length\")  # Check if the datasets have the same length\n",
    "        \n",
    "    distance = 0  # Initialize the distance variable to zero\n",
    "    for i in range(len(dataset1)):  # Iterate over each index in the datasets\n",
    "        if dataset1[i] != dataset2[i]:  # Compare the elements at the current index\n",
    "            distance += 1  # If the elements are different, increment the distance\n",
    "    \n",
    "    return distance  # Return the calculated Hamming distance\n",
    "\n",
    "\n"
   ]
  },
  {
   "cell_type": "code",
   "execution_count": 2,
   "metadata": {},
   "outputs": [],
   "source": [
    "# Example usage\n",
    "dataset1 = [0, 1, 0, 1, 0]  # First dataset\n",
    "dataset2 = [1, 1, 0, 0, 1]  # Second dataset\n",
    "distance = hamming_distance(dataset1, dataset2)  # Calculate the Hamming distance"
   ]
  },
  {
   "cell_type": "code",
   "execution_count": 3,
   "metadata": {},
   "outputs": [
    {
     "name": "stdout",
     "output_type": "stream",
     "text": [
      "Hamming distance: 3\n"
     ]
    }
   ],
   "source": [
    "print(\"Hamming distance:\", distance)  # Print the result"
   ]
  },
  {
   "cell_type": "markdown",
   "metadata": {},
   "source": [
    "jaccard_similarity"
   ]
  },
  {
   "cell_type": "code",
   "execution_count": 4,
   "metadata": {},
   "outputs": [],
   "source": [
    "def jaccard_similarity(set1, set2):\n",
    "    intersection = set1.intersection(set2)  # Calculate the intersection of the sets\n",
    "    union = set1.union(set2)  # Calculate the union of the sets\n",
    "    similarity = len(intersection) / len(union)  # Calculate the Jaccard similarity coefficient\n",
    "    return similarity\n",
    "# Example usage\n",
    "\n"
   ]
  },
  {
   "cell_type": "code",
   "execution_count": 5,
   "metadata": {},
   "outputs": [],
   "source": [
    "set1 = {1, 2, 3, 4}  # First set\n",
    "set2 = {3, 4, 5, 6}  # Second set\n",
    "similarity = jaccard_similarity(set1, set2)  # Calculate the Jaccard similarity coefficient"
   ]
  },
  {
   "cell_type": "code",
   "execution_count": 6,
   "metadata": {},
   "outputs": [
    {
     "name": "stdout",
     "output_type": "stream",
     "text": [
      "Jaccard similarity: 0.3333333333333333\n"
     ]
    }
   ],
   "source": [
    "print(\"Jaccard similarity:\", similarity)  # Print the result"
   ]
  }
 ],
 "metadata": {
  "kernelspec": {
   "display_name": "Python 3",
   "language": "python",
   "name": "python3"
  },
  "language_info": {
   "codemirror_mode": {
    "name": "ipython",
    "version": 3
   },
   "file_extension": ".py",
   "mimetype": "text/x-python",
   "name": "python",
   "nbconvert_exporter": "python",
   "pygments_lexer": "ipython3",
   "version": "3.10.7"
  }
 },
 "nbformat": 4,
 "nbformat_minor": 2
}
